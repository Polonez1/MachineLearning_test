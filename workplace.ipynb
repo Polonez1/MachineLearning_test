{
 "cells": [
  {
   "cell_type": "code",
   "execution_count": 1,
   "metadata": {},
   "outputs": [],
   "source": [
    "from sklearn.compose import ColumnTransformer\n",
    "from sklearn.datasets import fetch_openml\n",
    "from sklearn.tree import DecisionTreeClassifier\n",
    "from sklearn.ensemble import RandomForestClassifier\n",
    "from sklearn.impute import KNNImputer, SimpleImputer\n",
    "from sklearn.model_selection import cross_val_score, train_test_split\n",
    "from sklearn.pipeline import make_pipeline\n",
    "from sklearn.preprocessing import OneHotEncoder, RobustScaler\n",
    "from sklearn.model_selection import RandomizedSearchCV, GridSearchCV\n",
    "\n",
    "from sklearn.pipeline import make_pipeline\n",
    "from sklearn.impute import SimpleImputer\n",
    "from sklearn.preprocessing import OrdinalEncoder\n",
    "\n",
    "from sklearn.linear_model import LogisticRegression\n",
    "from sklearn.linear_model import LinearRegression\n",
    "from sklearn.preprocessing import OneHotEncoder, RobustScaler, MinMaxScaler\n",
    "\n",
    "import pandas as pd\n",
    "import numpy as np\n",
    "\n",
    "from scripts import load_data\n",
    "from scripts import machine_learning"
   ]
  },
  {
   "cell_type": "code",
   "execution_count": 2,
   "metadata": {},
   "outputs": [],
   "source": [
    "COL = ['home_club_position', 'away_club_position', 'attendance',\n",
    "       'squad_size_x', 'average_age_x', 'foreigners_percentage_x',\n",
    "       'national_team_players_x']"
   ]
  },
  {
   "cell_type": "code",
   "execution_count": 3,
   "metadata": {},
   "outputs": [],
   "source": [
    "X_TRAIN_COL = [\n",
    "    \"home_club_position\",\n",
    "    \"away_club_position\",\n",
    "    \"home_club_id\",\n",
    "    \"away_club_id\",\n",
    "    \"attendance\",\n",
    "    \"squad_size_x\",\n",
    "    \"average_age_x\",\n",
    "    \"foreigners_percentage_x\",\n",
    "    \"national_team_players_x\",\n",
    "]\n",
    "\n",
    "MODEL_GRID_COL = [\n",
    "    \"model_name\",\n",
    "    \"mean_fit_time\",\n",
    "    \"std_fit_time\",\n",
    "    \"mean_score_time\",\n",
    "    \"std_score_time\",\n",
    "    \"params\",\n",
    "    \"mean_test_score\",\n",
    "    \"std_test_score\",\n",
    "]\n",
    "\n",
    "\n",
    "df_full = load_data.load_df()\n",
    "df, df_random = load_data.split_data_random_and_Xy(df_full)\n",
    "df_transformed = machine_learning.transform_data(df)\n",
    "\n",
    "\n",
    "X, y = machine_learning.split_X_y(df_transformed)\n",
    "tts = train_test_split(X, y, stratify=y, test_size=0.3)\n",
    "X_train, X_test, y_train, y_test = tts\n",
    "\n",
    "\n",
    "MODEL_GRID_COL = [\n",
    "    \"model_name\",\n",
    "    \"mean_fit_time\",\n",
    "    \"std_fit_time\",\n",
    "    \"mean_score_time\",\n",
    "    \"std_score_time\",\n",
    "    \"params\",\n",
    "    \"mean_test_score\",\n",
    "    \"std_test_score\",\n",
    "]\n",
    "\n",
    "models_dict = {\n",
    "    \"gausian\": machine_learning.find_best_gausian_parameters(X_train[X_TRAIN_COL], y_train, cv=2),\n",
    "    \"rfc\": machine_learning.find_random_forest_class_parameters(\n",
    "        X[X_TRAIN_COL], y, cv=2),\n",
    "    \"decisionTree\": machine_learning.find_decision_tree_parameters(X_train[X_TRAIN_COL], y_train, cv=2)\n",
    "}\n",
    "\n",
    "\n",
    "grid_df = []\n",
    "for model in models_dict.items():\n",
    "    model_table = model[1]\n",
    "    model_grid = pd.DataFrame(model_table)\n",
    "    best_model_df = model_grid.loc[model_grid[\"rank_test_score\"] == 1].head(1)\n",
    "    model_name = model[0]\n",
    "    best_model_df[\"model_name\"] = model_name\n",
    "    grid_df.append(best_model_df)\n",
    "\n",
    "models_params_table = pd.concat(grid_df)[MODEL_GRID_COL]\n",
    "models_params_table = machine_learning.add_models_to_grid_table(models_params_table)\n",
    "\n",
    "\n",
    "\n",
    "\n",
    "#params = machine_learning.get_params(models_params_table, \"rfc\")\n",
    "#model = machine_learning.random_forest_class(params=params)\n",
    "#\n",
    "#\n",
    "#prediction_table = machine_learning.create_prediction_table(\n",
    "#    model=model, X_train=X_test, y_train=y_test\n",
    "#)\n",
    "\n",
    "\n"
   ]
  },
  {
   "cell_type": "code",
   "execution_count": 33,
   "metadata": {},
   "outputs": [],
   "source": [
    "best_columns_dict = {}\n",
    "\n",
    "for i in models_params_table[['model_name', 'params', 'model']].itertuples(index=False):\n",
    "    name = i[0]\n",
    "    params = i[1]\n",
    "    model_funkc = i[2]\n",
    "    model = model_funkc(params=params)\n",
    "    best_columns = machine_learning.find_best_columns_to_model(columns_to_test=[\"home_club_position\",\n",
    "    \"away_club_position\", \"squad_size_x\", \"average_age_x\"], \n",
    "                                            model=model, \n",
    "                                            X_test=X_test,\n",
    "                                            y_test=y_test,\n",
    "                                            X_train=X_train,\n",
    "                                            y_train=y_train)\n",
    "    best_columns_dict[name] = best_columns\n",
    "    \n",
    "    \n"
   ]
  },
  {
   "cell_type": "code",
   "execution_count": 32,
   "metadata": {},
   "outputs": [
    {
     "data": {
      "text/plain": [
       "{'gausian': ('home_club_position', 'away_club_position'),\n",
       " 'rfc': ('home_club_position', 'away_club_position', 'squad_size_x')}"
      ]
     },
     "execution_count": 32,
     "metadata": {},
     "output_type": "execute_result"
    }
   ],
   "source": [
    "best_columns_dict"
   ]
  }
 ],
 "metadata": {
  "kernelspec": {
   "display_name": "Python 3",
   "language": "python",
   "name": "python3"
  },
  "language_info": {
   "codemirror_mode": {
    "name": "ipython",
    "version": 3
   },
   "file_extension": ".py",
   "mimetype": "text/x-python",
   "name": "python",
   "nbconvert_exporter": "python",
   "pygments_lexer": "ipython3",
   "version": "3.10.5"
  },
  "orig_nbformat": 4
 },
 "nbformat": 4,
 "nbformat_minor": 2
}
